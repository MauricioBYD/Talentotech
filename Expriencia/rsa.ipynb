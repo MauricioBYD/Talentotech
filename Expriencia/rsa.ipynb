{
 "cells": [
  {
   "cell_type": "code",
   "execution_count": 1,
   "id": "60870142",
   "metadata": {},
   "outputs": [],
   "source": [
    "import math\n",
    "import random\n",
    "\n",
    "def es_primo(num):\n",
    "    if num < 2:\n",
    "        return False\n",
    "    for i in range(2, int(math.sqrt(num)) + 1):\n",
    "        if num % i == 0:\n",
    "            return False\n",
    "    return True"
   ]
  },
  {
   "cell_type": "code",
   "execution_count": 2,
   "id": "2745ce30",
   "metadata": {},
   "outputs": [],
   "source": [
    "def generar_primo(bits=32):\n",
    "    while True:\n",
    "        candidato = random.getrandbits(bits)\n",
    "        candidato |= (1 << bits - 1) | 1\n",
    "        if es_primo(candidato):\n",
    "            return candidato"
   ]
  },
  {
   "cell_type": "code",
   "execution_count": 3,
   "id": "df36a66e",
   "metadata": {},
   "outputs": [],
   "source": [
    "def texto_a_decimal(texto):\n",
    "    return int.from_bytes(texto.encode('utf-8'), 'big')"
   ]
  },
  {
   "cell_type": "code",
   "execution_count": 4,
   "id": "c32fe2e9",
   "metadata": {},
   "outputs": [],
   "source": [
    "def decimal_a_texto(decimal):\n",
    "    longitud_bytes = (decimal.bit_length() + 7) // 8\n",
    "    return decimal.to_bytes(longitud_bytes, 'big').decode('utf-8')"
   ]
  },
  {
   "cell_type": "code",
   "execution_count": 5,
   "id": "37cde12c",
   "metadata": {},
   "outputs": [],
   "source": [
    "def generar_claves_rsa(bits_primos=32):\n",
    "    p = generar_primo(bits_primos)\n",
    "    q = generar_primo(bits_primos)\n",
    "    while p == q:\n",
    "        q = generar_primo(bits_primos)\n",
    "    n = p * q\n",
    "    phi_n = (p - 1) * (q - 1)\n",
    "    e = 65537\n",
    "    while math.gcd(e, phi_n) != 1:\n",
    "        e = generar_primo(16)\n",
    "    d = pow(e, -1, phi_n)\n",
    "    return ((e, n), (d, n), p, q)"
   ]
  },
  {
   "cell_type": "code",
   "execution_count": 6,
   "id": "14941018",
   "metadata": {},
   "outputs": [],
   "source": [
    "def cifrar_rsa(clave_publica, m_decimal):\n",
    "    e, n = clave_publica\n",
    "    if m_decimal >= n:\n",
    "        raise ValueError(\"El mensaje es demasiado grande para este par de claves. m >= n.\")\n",
    "    mc = pow(m_decimal, e, n)\n",
    "    return mc"
   ]
  },
  {
   "cell_type": "code",
   "execution_count": 7,
   "id": "593549b1",
   "metadata": {},
   "outputs": [],
   "source": [
    "def descifrar_rsa(clave_privada, mc):\n",
    "    d, n = clave_privada\n",
    "    m_decimal = pow(mc, d, n)\n",
    "    return m_decimal"
   ]
  },
  {
   "cell_type": "code",
   "execution_count": 8,
   "id": "a96cdf8b",
   "metadata": {},
   "outputs": [
    {
     "name": "stdout",
     "output_type": "stream",
     "text": [
      "--- Cifrador RSA (Demostración) ---\n",
      "ADVERTENCIA: Usando primos de 32 bits. Esto NO es seguro para uso real.\n",
      "\n",
      "\n",
      "Texto original: 'Holi'\n",
      "Representación decimal (m): 1215261801\n",
      "\n",
      "Generando claves RSA...\n",
      "Claves generadas con éxito.\n",
      "  - Módulo (n = p*q): 7736883429273487997\n",
      "  - Clave Pública (e, n): (65537, 7736883429273487997)\n",
      "  - Clave Privada (d, n): (561817419368311685, 7736883429273487997)\n",
      "\n",
      "--- Cifrando el mensaje ---\n",
      "Mensaje Cifrado (mc): 167361123822199060\n",
      "\n",
      "--- Descifrando el mensaje ---\n",
      "Mensaje Descifrado (decimal): 1215261801\n",
      "\n",
      "--- Resultado Final ---\n",
      "Texto Original:   'Holi'\n",
      "Texto Descifrado: 'Holi'\n",
      "\n",
      "¡Éxito! El texto descifrado coincide con el original.\n"
     ]
    }
   ],
   "source": [
    "if __name__ == \"__main__\":\n",
    "    BITS_PRIMOS = 32\n",
    "    print(\"--- Cifrador RSA (Demostración) ---\")\n",
    "    print(f\"ADVERTENCIA: Usando primos de {BITS_PRIMOS} bits. Esto NO es seguro para uso real.\\n\")\n",
    "    texto_original = input(\"Introduce el texto a cifrar: \")\n",
    "    if not texto_original:\n",
    "        print(\"No se ha introducido texto. Saliendo.\")\n",
    "    else:\n",
    "        try:\n",
    "            m_decimal = texto_a_decimal(texto_original)\n",
    "            print(f\"\\nTexto original: '{texto_original}'\")\n",
    "            print(f\"Representación decimal (m): {m_decimal}\")\n",
    "            print(\"\\nGenerando claves RSA...\")\n",
    "            clave_publica, clave_privada, p, q = generar_claves_rsa(BITS_PRIMOS)\n",
    "            e, n = clave_publica\n",
    "            d, _ = clave_privada\n",
    "            while m_decimal >= n:\n",
    "                print(\"El mensaje es demasiado grande para las claves generadas. Regenerando claves...\")\n",
    "                clave_publica, clave_privada, p, q = generar_claves_rsa(BITS_PRIMOS)\n",
    "                e, n = clave_publica\n",
    "                d, _ = clave_privada\n",
    "            print(\"Claves generadas con éxito.\")\n",
    "            print(f\"  - Módulo (n = p*q): {n}\")\n",
    "            print(f\"  - Clave Pública (e, n): ({e}, {n})\")\n",
    "            print(f\"  - Clave Privada (d, n): ({d}, {n})\")\n",
    "            print(\"\\n--- Cifrando el mensaje ---\")\n",
    "            mensaje_cifrado = cifrar_rsa(clave_publica, m_decimal)\n",
    "            print(f\"Mensaje Cifrado (mc): {mensaje_cifrado}\")\n",
    "            print(\"\\n--- Descifrando el mensaje ---\")\n",
    "            mensaje_descifrado_decimal = descifrar_rsa(clave_privada, mensaje_cifrado)\n",
    "            print(f\"Mensaje Descifrado (decimal): {mensaje_descifrado_decimal}\")\n",
    "            texto_final = decimal_a_texto(mensaje_descifrado_decimal)\n",
    "            print(\"\\n--- Resultado Final ---\")\n",
    "            print(f\"Texto Original:   '{texto_original}'\")\n",
    "            print(f\"Texto Descifrado: '{texto_final}'\")\n",
    "            if texto_original == texto_final:\n",
    "                print(\"\\n¡Éxito! El texto descifrado coincide con el original.\")\n",
    "            else:\n",
    "                print(\"\\n¡Error! El texto descifrado NO coincide con el original.\")\n",
    "        except ValueError as e:\n",
    "            print(f\"\\nError: {e}\")\n",
    "            print(\"El texto introducido es demasiado largo para ser cifrado con claves de este tamaño.\")\n",
    "            print(f\"Intenta con un texto más corto (aprox. menos de {BITS_PRIMOS*2 // 8 - 2} caracteres).\")\n",
    "        except Exception as e:\n",
    "            print(f\"Ha ocurrido un error inesperado: {e}\")"
   ]
  }
 ],
 "metadata": {
  "kernelspec": {
   "display_name": "Python 3",
   "language": "python",
   "name": "python3"
  },
  "language_info": {
   "codemirror_mode": {
    "name": "ipython",
    "version": 3
   },
   "file_extension": ".py",
   "mimetype": "text/x-python",
   "name": "python",
   "nbconvert_exporter": "python",
   "pygments_lexer": "ipython3",
   "version": "3.13.3"
  }
 },
 "nbformat": 4,
 "nbformat_minor": 5
}
